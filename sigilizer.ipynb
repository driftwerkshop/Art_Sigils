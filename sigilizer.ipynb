{
 "cells": [
  {
   "cell_type": "code",
   "execution_count": 1,
   "id": "82f17542-9799-44fc-a392-98213e04795c",
   "metadata": {},
   "outputs": [],
   "source": [
    "import matplotlib.pyplot as plt\n",
    "import numpy as np\n",
    "import matplotlib.animation as animation"
   ]
  },
  {
   "cell_type": "code",
   "execution_count": 3,
   "id": "cffc622e-74c0-4037-b65e-97a9025b2ad5",
   "metadata": {},
   "outputs": [],
   "source": [
    "# Function to convert a phrase to its hexadecimal representation\n",
    "def phrase_to_hex(phrase):\n",
    "    return phrase.encode('utf-8').hex()"
   ]
  },
  {
   "cell_type": "code",
   "execution_count": 5,
   "id": "c1ec7470-c60d-4db9-9fc2-6d2216d986e5",
   "metadata": {},
   "outputs": [],
   "source": [
    "# Function to draw the sigil from hex string\n",
    "def draw_circular_sigil_with_text(ax, hex_str, word, step):\n",
    "    num_points = len(hex_str)\n",
    "    angles = np.linspace(0, 2 * np.pi, num_points, endpoint=False)\n",
    "    \n",
    "    for i in range(step):\n",
    "        char = hex_str[i]\n",
    "        radius = int(char, 16) / 16.0\n",
    "        x = radius * np.cos(angles[i])\n",
    "        y = radius * np.sin(angles[i])\n",
    "        \n",
    "        # Plot the sigil point by point\n",
    "        ax.plot(x, y, 'o', markersize=8)\n",
    "        ax.plot([0, x], [0, y], 'k-', lw=1)\n",
    "\n",
    "    # Add the phrase as text below the sigil\n",
    "    ax.text(0, -1.3, word, ha='center', fontsize=16, color='black', fontweight='bold')"
   ]
  },
  {
   "cell_type": "code",
   "execution_count": 9,
   "id": "9b7b76c2-4341-41da-9bbf-dc0861326647",
   "metadata": {},
   "outputs": [],
   "source": [
    "# Function to animate and save the sigil as a GIF\n",
    "def animate_sigil(phrase, output_filename):\n",
    "    hex_representation = phrase_to_hex(phrase)\n",
    "    \n",
    "    # Create a figure for the animation\n",
    "    fig, ax = plt.subplots(figsize=(6, 6))\n",
    "    ax.set_xlim(-1, 1)\n",
    "    ax.set_ylim(-1.5, 1)\n",
    "    ax.set_aspect('equal')\n",
    "    ax.axis('off')\n",
    "\n",
    "    # Animation function to gradually draw the sigil\n",
    "    def animate_circular_with_text(i):\n",
    "        ax.clear()\n",
    "        ax.set_xlim(-1, 1)\n",
    "        ax.set_ylim(-1.5, 1)\n",
    "        ax.set_aspect('equal')\n",
    "        ax.axis('off')\n",
    "        draw_circular_sigil_with_text(ax, hex_representation, phrase, i + 1)\n",
    "\n",
    "    # Create the animation\n",
    "    ani_circular_text = animation.FuncAnimation(fig, animate_circular_with_text, frames=len(hex_representation), interval=200)\n",
    "    \n",
    "    # Save the animation as a GIF\n",
    "    ani_circular_text.save(output_filename, writer='pillow')  # 'pillow' writer ensures compatibility\n",
    "\n",
    "    plt.close(fig)"
   ]
  },
  {
   "cell_type": "code",
   "execution_count": 35,
   "id": "db065ef8-5520-47d9-bf38-509e5444bfcd",
   "metadata": {},
   "outputs": [
    {
     "name": "stdout",
     "output_type": "stream",
     "text": [
      "Target sigil saved as: target_sigil.gif\n"
     ]
    }
   ],
   "source": [
    "# Example usage:\n",
    "# Sigilize and visualize the target phrase\n",
    "target_phrase = \"Every phrase has a unique sigil.\"\n",
    "output_gif = \"target_sigil.gif\"\n",
    "animate_sigil(target_phrase, output_gif)\n",
    "\n",
    "print(f\"Target sigil saved as: {output_gif}\")"
   ]
  },
  {
   "cell_type": "code",
   "execution_count": null,
   "id": "4ed4c8d0-10e2-4e7d-8cb3-0d165e9fdf12",
   "metadata": {},
   "outputs": [],
   "source": []
  }
 ],
 "metadata": {
  "kernelspec": {
   "display_name": "Python 3 (ipykernel)",
   "language": "python",
   "name": "python3"
  },
  "language_info": {
   "codemirror_mode": {
    "name": "ipython",
    "version": 3
   },
   "file_extension": ".py",
   "mimetype": "text/x-python",
   "name": "python",
   "nbconvert_exporter": "python",
   "pygments_lexer": "ipython3",
   "version": "3.9.12"
  }
 },
 "nbformat": 4,
 "nbformat_minor": 5
}
